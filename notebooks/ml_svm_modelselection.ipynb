{
 "cells": [
  {
   "cell_type": "markdown",
   "metadata": {
    "id": "wPdF7csjUWEG"
   },
   "source": [
    "<table align=\"left\">\n",
    "  <td>\n",
    "    <a href=\"https://colab.research.google.com/github/marcoteran/ml/blob/master/notebooks/ml_svm_modelselection.ipynb\" target=\"_parent\"><img src=\"https://colab.research.google.com/assets/colab-badge.svg\" alt=\"Abrir en Colab\" title=\"Abrir y ejecutar en Google Colaboratory\"/></a>\n",
    "  </td>\n",
    "  <td>\n",
    "    <a target=\"_blank\" href=\"https://kaggle.com/kernels/welcome?src=https://github.com/marcoteran/ml/blob/master/notebooks/ml_svm_modelselection.ipynb\"><img src=\"https://kaggle.com/static/images/open-in-kaggle.svg\" alt=\"Abrir en Kaggle\" title=\"Abrir y ejecutar en Kaggle\"/></a>\n",
    "  </td>\n",
    "</table>"
   ]
  },
  {
   "cell_type": "markdown",
   "metadata": {
    "id": "Qroom2FTUWEM"
   },
   "source": [
    "# Sesión 04: Máquinas de vectores de soporte y selección de modelos\n",
    "## Guía Completa\n",
    "\n",
    "**Machine Learning**\n",
    "\n",
    "**Profesor:** Marco Terán  \n",
    "**Fecha:** 2025\n",
    "\n",
    "[Website](http://marcoteran.github.io/),\n",
    "[Github](https://github.com/marcoteran),\n",
    "[LinkedIn](https://www.linkedin.com/in/marcoteran/).\n",
    "___"
   ]
  },
  {
   "cell_type": "markdown",
   "metadata": {
    "id": "MdTwTG0aUWEN"
   },
   "source": [
    "Definimos primero unas librerías y funciones que vamos a usar a durante la sesión:"
   ]
  },
  {
   "cell_type": "code",
   "execution_count": null,
   "metadata": {
    "id": "iPhE5p6aUWEO"
   },
   "outputs": [],
   "source": [
    "%matplotlib inline\n",
    "import matplotlib.pyplot as plt\n",
    "import numpy as np\n",
    "import pylab as pl\n",
    "from sklearn.model_selection import train_test_split\n",
    "from matplotlib.colors import Normalize"
   ]
  },
  {
   "cell_type": "code",
   "execution_count": null,
   "metadata": {
    "id": "wVrRq7G_UWEQ"
   },
   "outputs": [],
   "source": [
    "# Función para visualizar un conjunto de datos en 2D\n",
    "def plot_data(X, y):\n",
    "    y_unique = np.unique(y)\n",
    "    colors = pl.cm.rainbow(np.linspace(0.0, 1.0, y_unique.size))\n",
    "    for this_y, color in zip(y_unique, colors):\n",
    "        this_X = X[y == this_y]\n",
    "        pl.scatter(this_X[:, 0], this_X[:, 1],  c=color.reshape(1,-1),\n",
    "                    alpha=0.5, edgecolor='k',\n",
    "                    label=\"Class %s\" % this_y)\n",
    "    pl.legend(loc=\"best\")\n",
    "    pl.title(\"Data\")\n",
    "    \n",
    "# Función para visualizar de la superficie de decisión de un clasificador\n",
    "def plot_decision_region(X, pred_fun):\n",
    "    min_x = np.min(X[:, 0])\n",
    "    max_x = np.max(X[:, 0])\n",
    "    min_y = np.min(X[:, 1])\n",
    "    max_y = np.max(X[:, 1])\n",
    "    min_x = min_x - (max_x - min_x) * 0.05\n",
    "    max_x = max_x + (max_x - min_x) * 0.05\n",
    "    min_y = min_y - (max_y - min_y) * 0.05\n",
    "    max_y = max_y + (max_y - min_y) * 0.05\n",
    "    x_vals = np.linspace(min_x, max_x, 100)\n",
    "    y_vals = np.linspace(min_y, max_y, 100)\n",
    "    XX, YY = np.meshgrid(x_vals, y_vals)\n",
    "    grid_r, grid_c = XX.shape\n",
    "    ZZ = np.zeros((grid_r, grid_c))\n",
    "    for i in range(grid_r):\n",
    "        for j in range(grid_c):\n",
    "            ZZ[i, j] = pred_fun(XX[i, j], YY[i, j])\n",
    "    pl.contourf(XX, YY, ZZ, 100, cmap = pl.cm.coolwarm, vmin= -1, vmax=2)\n",
    "    pl.colorbar()\n",
    "    pl.xlabel(\"x\")\n",
    "    pl.ylabel(\"y\")\n",
    "    \n",
    "class MidpointNormalize(Normalize):\n",
    "    def __init__(self, vmin=None, vmax=None, midpoint=None, clip=False):\n",
    "        self.midpoint = midpoint\n",
    "        Normalize.__init__(self, vmin, vmax, clip)\n",
    "\n",
    "    def __call__(self, value, clip=None):\n",
    "        x, y = [self.vmin, self.midpoint, self.vmax], [0, 0.5, 1]\n",
    "        return np.ma.masked_array(np.interp(value, x, y))\n",
    "    \n",
    "def gen_pred_fun(clf):\n",
    "    def pred_fun(x1, x2):\n",
    "        x = np.array([[x1, x2]])\n",
    "        return clf.predict(x)[0]\n",
    "    return pred_fun\n",
    "\n",
    "def plot_labels(n_folds, n_classes, list_labels):\n",
    "    ind = np.arange(n_folds)\n",
    "    width = 0.15\n",
    "    \n",
    "    countings = []\n",
    "    for labels in list_labels:\n",
    "        labels = np.array(labels)\n",
    "        countings.append([np.count_nonzero(labels == x) for x in range(n_classes)])\n",
    "    \n",
    "    class_bars = []\n",
    "    for cls in range(n_classes):\n",
    "        class_bars.append([l[cls] for l in countings])\n",
    "    \n",
    "    fig, ax = pl.subplots()\n",
    "    i = 0\n",
    "    for class_bar in class_bars:\n",
    "        ax.bar(ind + width*i, class_bar, width, label='Clase '+str(i))\n",
    "        i += 1\n",
    "        \n",
    "    ax.set_xticks(ind + 2*width / 3)\n",
    "    ax.set_xticklabels(['Pliegue {}'.format(k) for k in range(n_folds)])\n",
    "    pl.legend(loc=\"best\")\n",
    "    pl.title(\"Etiquetas\")"
   ]
  },
  {
   "cell_type": "markdown",
   "metadata": {
    "id": "qz3ciLxcUWET"
   },
   "source": [
    "# Máquinas de vectores de soporte\n",
    "**Support Vector Machines**"
   ]
  },
  {
   "cell_type": "markdown",
   "metadata": {
    "id": "A40lx2aQUWEU"
   },
   "source": [
    "Las máquinas de vectores de soporte (SVM)  son un conjunto de modelos de aprendizaje supervisado que se utilizan para la clasificación, la regresión y la detección de valores atípicos, en el cual los ejemplos son representados en un nuevo espacio, de tal forma que aquellos ejemplos de diferentes categorías sea posible, en principio, separarlos linealmente.\n",
    "\n",
    "Las ventajas de las máquinas de vectores soporte son:\n",
    "* Son eficaces en espacios de alta dimensión.\n",
    "* Siguen siendo eficaces en los casos en que el número de dimensiones es mayor que el número de muestras.\n",
    "* Utiliza un subconjunto de puntos de entrenamiento en la función de decisión (llamados vectores de soporte), por lo que también es eficiente en cuanto a memoria.\n",
    "* **Versátil:** se pueden especificar diferentes funciones del Kernel para la función de decisión. Se proporcionan kernels comunes, pero también es posible especificar kernels personalizados.\n",
    "\n",
    "Las desventajas de las máquinas de vectores de soporte son:\n",
    "* Si el número de características es mucho mayor que el número de muestras, es crucial evitar el sobreajuste en la elección de las funciones Kernel y el término de regularización.\n",
    "* Las SVM no proporcionan directamente estimaciones de probabilidad, éstas se calculan mediante una costosa validación cruzada de cinco pliegues."
   ]
  },
  {
   "cell_type": "markdown",
   "metadata": {
    "id": "xW7v-nuTUWEU"
   },
   "source": [
    "## Definición del conjunto de datos\n",
    "\n",
    "Vamos a trabajar con un conjunto de datos artificial (conjunto de datos de juguete). El conjunto es creado usando la funcionalidad `make_circles` de Scikit-Learn [ver más](https://scikit-learn.org/stable/modules/generated/sklearn.datasets.make_circles.html).\n",
    "\n",
    "`make_circles` permite crear un círculo grande que contenga un círculo más pequeño en 2d.\n",
    "Un simple conjunto de datos de juguete para visualizar los algoritmos de agrupación y xclasificación.\n",
    "\n",
    "Considere el siguiente ejemplo de un conjunto de datos:"
   ]
  },
  {
   "cell_type": "code",
   "execution_count": null,
   "metadata": {
    "id": "57JXVLv9UWEV"
   },
   "outputs": [],
   "source": [
    "# Cargue las funciones datos make_circles n_samples=1000, factor=.3 (separación entre circulos), noise=.05\n",
    "from sklearn.datasets import make_circles"
   ]
  },
  {
   "cell_type": "code",
   "execution_count": null,
   "metadata": {
    "id": "X7O0t2SlX65D"
   },
   "outputs": [],
   "source": [
    "np.random.seed(0)\n",
    "X, y = make_circles(n_samples=1000, factor=0.3, noise=0.05)"
   ]
  },
  {
   "cell_type": "markdown",
   "metadata": {
    "id": "VsEPc-6QUWEW"
   },
   "source": [
    "Se trata de un conjunto de datos que no es linealmente separable"
   ]
  },
  {
   "cell_type": "code",
   "execution_count": null,
   "metadata": {
    "colab": {
     "base_uri": "https://localhost:8080/",
     "height": 390
    },
    "id": "y4Cm7TGkUWEW",
    "outputId": "448f5eb3-79be-4f68-cd01-84c40d5e92cd"
   },
   "outputs": [],
   "source": [
    "# Dibuje los datos\n",
    "pl.figure(figsize=(10,6))\n",
    "plot_data(X, y)"
   ]
  },
  {
   "cell_type": "markdown",
   "metadata": {
    "id": "xfo1eRoAUWEW"
   },
   "source": [
    "## ¿Cómo separar los datos?\n",
    "\n",
    "SVM  crea, implícitamente, un espacio de representación de mayor dimensionalidad en el cual podemos separar de forma clara nuestros datos. Por ejemplo:\n",
    "\n",
    "<img src=\"https://github.com/marcoteran/deeplearning/raw/master/notebooks/figures/kernel_trick.png\" width=\"60%\">"
   ]
  },
  {
   "cell_type": "markdown",
   "metadata": {
    "id": "76fWFrneUWEX"
   },
   "source": [
    "## Kernel trick\n",
    "\n",
    "SVM usa una función conocida como kernel. Intuitivamente, esta función $k$ define qué tan parecidas son dos instancias del conjunto de datos. Formalmente, la función $k$ calcula el producto punto en el espacio de caracterísiticas donde se representarán los datos. Dependiendo del kernel, este espacio de característica es de mayor dimensionalidad, y facilita la  definición de un \"*hiperplano*\" que separe los ejemplos de ambas características. \n",
    "\n",
    "Existen varias opciones para las funciones de kernel. Primero vamos a cargar dos conjuntos de datos sobre los cuales vamos a comparar la superficie de decisión generada por cada tipo de kernel.\n",
    "\n",
    "<img src=\"https://github.com/marcoteran/deeplearning/raw/master/notebooks/figures/differentkernels.png\" width=\"60%\">"
   ]
  },
  {
   "cell_type": "code",
   "execution_count": null,
   "metadata": {
    "id": "aDUiFDltUWEX"
   },
   "outputs": [],
   "source": [
    "# Cargar el conjunto de datos de iris (clases: versicolor y virginica)\n",
    "from sklearn.datasets import load_iris"
   ]
  },
  {
   "cell_type": "code",
   "execution_count": null,
   "metadata": {
    "id": "OgqZUZOucjgq"
   },
   "outputs": [],
   "source": [
    "iris=load_iris()"
   ]
  },
  {
   "cell_type": "code",
   "execution_count": null,
   "metadata": {
    "colab": {
     "base_uri": "https://localhost:8080/"
    },
    "id": "2vGqUiVkc31W",
    "outputId": "eb14ae6a-dcf3-42c3-a890-33a4e412f7ce"
   },
   "outputs": [],
   "source": [
    "iris.target_names"
   ]
  },
  {
   "cell_type": "code",
   "execution_count": null,
   "metadata": {
    "id": "oqWtEkE2cpBu"
   },
   "outputs": [],
   "source": [
    "X=iris.data[:,[1,2]]"
   ]
  },
  {
   "cell_type": "code",
   "execution_count": null,
   "metadata": {
    "id": "7RPSfPEMdZXW"
   },
   "outputs": [],
   "source": [
    "y=iris.target"
   ]
  },
  {
   "cell_type": "code",
   "execution_count": null,
   "metadata": {
    "id": "GLzqlVlGUWEX"
   },
   "outputs": [],
   "source": [
    "# Dividir el conjunto en 70% para entrenamiento y 30% para prueba\n",
    "X_train, X_test, y_train, y_test = train_test_split(X, y, test_size=0.3, random_state=1)"
   ]
  },
  {
   "cell_type": "code",
   "execution_count": null,
   "metadata": {
    "id": "ha76hqx3UWEY"
   },
   "outputs": [],
   "source": [
    "# Cargar el conjunto de datos de moon: 600 muestras y noise 0.3\n",
    "from sklearn.datasets import make_moons\n",
    "\n",
    "X_moons, y_moons = make_moons(n_samples=600, noise=0.3, random_state=0)"
   ]
  },
  {
   "cell_type": "code",
   "execution_count": null,
   "metadata": {
    "id": "X9nkPG8KUWEY"
   },
   "outputs": [],
   "source": [
    "# Dividir el conjunto en 70% para entrenamiento y 30% para prueba\n",
    "X_moons_train, X_moons_test, y_moons_train, y_moons_test = train_test_split(X_moons, y_moons, test_size=0.3, random_state=1)"
   ]
  },
  {
   "cell_type": "code",
   "execution_count": null,
   "metadata": {
    "colab": {
     "base_uri": "https://localhost:8080/",
     "height": 390
    },
    "id": "QoihIyWqUWEY",
    "outputId": "3c7e6ea5-b43c-4f46-8029-d202283f0048"
   },
   "outputs": [],
   "source": [
    "# Dibujar iris\n",
    "# Dibuje los datos\n",
    "pl.figure(figsize=(10,6))\n",
    "plot_data(X, y)"
   ]
  },
  {
   "cell_type": "code",
   "execution_count": null,
   "metadata": {
    "colab": {
     "base_uri": "https://localhost:8080/",
     "height": 390
    },
    "id": "y8u9AepYUWEZ",
    "outputId": "2d9f7296-9002-41a5-d009-acf404353bf5"
   },
   "outputs": [],
   "source": [
    "# Dibujar moon\n",
    "# Dibuje los datos\n",
    "pl.figure(figsize=(10,6))\n",
    "plot_data(X_moons, y_moons)"
   ]
  },
  {
   "cell_type": "markdown",
   "metadata": {
    "id": "v0H5sv0dUWEZ"
   },
   "source": [
    "## Kernel Lineal\n",
    "\n",
    "La función $k$ está definida como:\n",
    "$$\n",
    "k(x,y) = \\langle x, x\\rangle = xx'\n",
    "$$\n",
    "\n",
    "Esta implementación puede ser consultada a través de `sklearn.svm.LinearSVC` [(ver más)](https://scikit-learn.org/stable/modules/generated/sklearn.svm.LinearSVC.html)."
   ]
  },
  {
   "cell_type": "code",
   "execution_count": null,
   "metadata": {
    "id": "mJsXNA--UWEZ"
   },
   "outputs": [],
   "source": [
    "# Importamos el metodo\n",
    "from sklearn.svm import LinearSVC"
   ]
  },
  {
   "cell_type": "code",
   "execution_count": null,
   "metadata": {
    "id": "D0qxHPgqUWEZ"
   },
   "outputs": [],
   "source": [
    "# Crear dos clasificadores de kernel lineal: linear_iris y linear_moons\n",
    "linear_iris=LinearSVC()\n",
    "linear_moons=LinearSVC()"
   ]
  },
  {
   "cell_type": "code",
   "execution_count": null,
   "metadata": {
    "colab": {
     "base_uri": "https://localhost:8080/"
    },
    "id": "3UL0PvjsUWEa",
    "outputId": "aee2d9fc-af19-4571-a38a-fa4cab2ada29"
   },
   "outputs": [],
   "source": [
    "# Entrenamos los modelo `LinearSVC` llamando la función `fit()` sobre el conjunto de datos reducido\n",
    "linear_iris.fit(X_train, y_train)\n",
    "linear_moons.fit(X_moons_train, y_moons_train)"
   ]
  },
  {
   "cell_type": "markdown",
   "metadata": {
    "id": "v0ymgsLHUWEa"
   },
   "source": [
    "Ahora visualizamos los datos de ambos y la superficie de decisión:"
   ]
  },
  {
   "cell_type": "code",
   "execution_count": null,
   "metadata": {
    "colab": {
     "base_uri": "https://localhost:8080/",
     "height": 0
    },
    "id": "mDo_uDZsUWEb",
    "outputId": "cc26702b-a4f0-4655-9d8f-7143603767ae"
   },
   "outputs": [],
   "source": [
    "pl.figure(figsize=(10,6))\n",
    "plot_decision_region(X_test, gen_pred_fun(linear_iris))\n",
    "plot_data(X_test, y_test)"
   ]
  },
  {
   "cell_type": "markdown",
   "metadata": {
    "id": "bZkz54yAUWEb"
   },
   "source": [
    "El error en el conjunto de entrenamiento y prueba es el siguiente:"
   ]
  },
  {
   "cell_type": "code",
   "execution_count": null,
   "metadata": {
    "colab": {
     "base_uri": "https://localhost:8080/"
    },
    "id": "Yfgo3OLAUWEb",
    "outputId": "c998f365-40ab-4e35-9449-973d5d78d4e8"
   },
   "outputs": [],
   "source": [
    "# Error en entrenamiento para iris\n",
    "# Error en prueba para iris\n",
    "print('Error en entrenamiento para iris: {}'.format(1-linear_iris.score(X_train, y_train)))\n",
    "print('Error en prueba para iris: {}'.format(1-linear_iris.score(X_test, y_test)))"
   ]
  },
  {
   "cell_type": "markdown",
   "metadata": {
    "id": "QHCUNyBSUWEc"
   },
   "source": [
    "Ahora hacemos los mismo para el conjunto de datos generado artificialmente:"
   ]
  },
  {
   "cell_type": "code",
   "execution_count": null,
   "metadata": {
    "colab": {
     "base_uri": "https://localhost:8080/",
     "height": 0
    },
    "id": "2z6pnfeaUWEc",
    "outputId": "979fad1d-8a6a-4c18-e7bd-4863cfd63fb9"
   },
   "outputs": [],
   "source": [
    "pl.figure(figsize=(10,6))\n",
    "plot_decision_region(X_moons_test, gen_pred_fun(linear_iris))\n",
    "plot_data(X_moons_test, y_moons_test)"
   ]
  },
  {
   "cell_type": "code",
   "execution_count": null,
   "metadata": {
    "colab": {
     "base_uri": "https://localhost:8080/"
    },
    "id": "K-Wp52vCUWEc",
    "outputId": "66af361d-1ccb-4bba-a49a-165f96398cc4"
   },
   "outputs": [],
   "source": [
    "# Error en entrenamiento para moons\n",
    "# Error en prueba para moons\n",
    "print('Error en entrenamiento para moons: {}'.format(1-linear_iris.score(X_moons_train, y_moons_train)))\n",
    "print('Error en prueba para moons: {}'.format(1-linear_iris.score(X_moons_test, y_moons_test)))"
   ]
  },
  {
   "cell_type": "markdown",
   "metadata": {
    "id": "IscRF-I5UWEd"
   },
   "source": [
    "## Kernel polinomial\n",
    "\n",
    "La función $k$ está definida como:\n",
    "$$\n",
    "k(x,y) = (\\gamma \\langle x, x'\\rangle + r)^d\n",
    "$$\n",
    "dónde $d$ corresponde al grado del polinomio (parametro `degree`) y $r$ por `coef0`. De manera similar podemos acceder a la implementación de este kernel a través de `sklearn.svm.SVC` [(ver más)](https://scikit-learn.org/stable/modules/generated/sklearn.svm.SVC.html).\n",
    "\n",
    "Definimos primero un kernel polinomial de grado $2$."
   ]
  },
  {
   "cell_type": "code",
   "execution_count": null,
   "metadata": {
    "id": "2W76V3y-UWEd"
   },
   "outputs": [],
   "source": [
    "# Importamos el metodo\n",
    "from sklearn.svm import SVC"
   ]
  },
  {
   "cell_type": "code",
   "execution_count": null,
   "metadata": {
    "id": "r7XWZw5bUWEe"
   },
   "outputs": [],
   "source": [
    "# Definimos el clasificador con kernel='poly' y degree=2\n",
    "poly_svm=SVC(kernel='poly',degree=2)"
   ]
  },
  {
   "cell_type": "code",
   "execution_count": null,
   "metadata": {
    "colab": {
     "base_uri": "https://localhost:8080/"
    },
    "id": "tAFrSzDClzg0",
    "outputId": "243e57ea-e791-45db-b718-5e0b70704803"
   },
   "outputs": [],
   "source": [
    "poly_svm"
   ]
  },
  {
   "cell_type": "code",
   "execution_count": null,
   "metadata": {
    "colab": {
     "base_uri": "https://localhost:8080/"
    },
    "id": "C9O9DBKfUWEe",
    "outputId": "7ddcb9c8-75a9-416e-a852-91acd0c643ce"
   },
   "outputs": [],
   "source": [
    "# Entrenamos los modelo `SVC` llamando la función `fit()` sobre el conjunto de datos reducido\n",
    "poly_svm.fit(X_moons_train, y_moons_train)"
   ]
  },
  {
   "cell_type": "markdown",
   "metadata": {
    "id": "VyR4R0k4UWEf"
   },
   "source": [
    "Ahora visualizamos los datos de ambos y la superficie de decisión:"
   ]
  },
  {
   "cell_type": "code",
   "execution_count": null,
   "metadata": {
    "colab": {
     "base_uri": "https://localhost:8080/",
     "height": 404
    },
    "id": "U9rcOPM4UWEf",
    "outputId": "14e0d066-b47d-4ab9-80b1-45aa1848b2a7"
   },
   "outputs": [],
   "source": [
    "pl.figure(figsize=(10,6))\n",
    "plot_decision_region(X_moons_test, gen_pred_fun(poly_svm))\n",
    "plot_data(X_moons_test, y_moons_test)"
   ]
  },
  {
   "cell_type": "code",
   "execution_count": null,
   "metadata": {
    "colab": {
     "base_uri": "https://localhost:8080/"
    },
    "id": "CHIBeNKqmRJx",
    "outputId": "c20b9487-09f6-4174-a01e-9be0cb520794"
   },
   "outputs": [],
   "source": [
    "# Error en entrenamiento para moons\n",
    "# Error en prueba para moons\n",
    "print('Error en entrenamiento para moons: {}'.format(1-poly_svm.score(X_moons_train, y_moons_train)))\n",
    "print('Error en prueba para moons: {}'.format(1-poly_svm.score(X_moons_test, y_moons_test)))"
   ]
  },
  {
   "cell_type": "markdown",
   "metadata": {
    "id": "DKGXoPwmUWEf"
   },
   "source": [
    "Ahora lo intentamos con un polinomio de grado $3$:"
   ]
  },
  {
   "cell_type": "code",
   "execution_count": null,
   "metadata": {
    "colab": {
     "base_uri": "https://localhost:8080/"
    },
    "id": "uP4NuM46UWEg",
    "outputId": "e937488d-e477-4f5b-aa16-4aa033d63b3c"
   },
   "outputs": [],
   "source": [
    "poly_svm_d3=SVC(kernel='poly',degree=3)\n",
    "poly_svm_d3.fit(X_moons_train, y_moons_train)"
   ]
  },
  {
   "cell_type": "markdown",
   "metadata": {
    "id": "FuWPr3HuUWEg"
   },
   "source": [
    "Medimos el error en entrenamiento y prueba"
   ]
  },
  {
   "cell_type": "code",
   "execution_count": null,
   "metadata": {
    "colab": {
     "base_uri": "https://localhost:8080/",
     "height": 404
    },
    "id": "TWAz-4SXmmza",
    "outputId": "60b7c945-759b-4203-8bc1-249a072e72e1"
   },
   "outputs": [],
   "source": [
    "pl.figure(figsize=(10,6))\n",
    "plot_decision_region(X_moons_test, gen_pred_fun(poly_svm_d3))\n",
    "plot_data(X_moons_test, y_moons_test)"
   ]
  },
  {
   "cell_type": "code",
   "execution_count": null,
   "metadata": {
    "colab": {
     "base_uri": "https://localhost:8080/"
    },
    "id": "8e0X1m0HUWEg",
    "outputId": "394d00c9-9280-4dc6-a96c-5c7e981b5bbf"
   },
   "outputs": [],
   "source": [
    "print(\"Error en entrenamiento: {}\".format(1-poly_svm_d3.score(X_moons_train, y_moons_train)))\n",
    "print(\"Error en prueba: {}\".format(1-poly_svm_d3.score(X_moons_test, y_moons_test)))"
   ]
  },
  {
   "cell_type": "markdown",
   "metadata": {
    "id": "aNfjgK7QUWEg"
   },
   "source": [
    "Ahora probamos con el conjunto de datos IRIS $(d=4)$:"
   ]
  },
  {
   "cell_type": "code",
   "execution_count": null,
   "metadata": {
    "colab": {
     "base_uri": "https://localhost:8080/",
     "height": 404
    },
    "id": "x_hANZLPUWEh",
    "outputId": "de352fad-8a09-40f7-9344-1511b8c8b3b6"
   },
   "outputs": [],
   "source": [
    "poly_svm = SVC(kernel='poly', degree=4)\n",
    "poly_svm.fit(X_train, y_train)\n",
    "\n",
    "pl.figure(figsize = (10, 6))    \n",
    "plot_decision_region(X_test, gen_pred_fun(poly_svm))\n",
    "plot_data(X_test, y_test)"
   ]
  },
  {
   "cell_type": "code",
   "execution_count": null,
   "metadata": {
    "colab": {
     "base_uri": "https://localhost:8080/"
    },
    "id": "C-jiAT8qUWEh",
    "outputId": "2ddfab59-6b8b-478c-d475-5a72e19e0022"
   },
   "outputs": [],
   "source": [
    "# Error en entrenamiento\n",
    "# Error en prueba\n",
    "print(\"Error en entrenamiento: {}\".format(1-poly_svm.score(X_train, y_train)))\n",
    "print(\"Error en prueba: {}\".format(1-poly_svm.score(X_test, y_test)))"
   ]
  },
  {
   "cell_type": "markdown",
   "metadata": {
    "id": "nkAmRRf9UWEh"
   },
   "source": [
    "## Kernel Gaussiano\n",
    "\n",
    "\n",
    "$$\n",
    "K(x, x') = \\exp\\left(-\\frac{\\|x-x'\\|^2}{2\\sigma^2}\\right)\n",
    "$$\n",
    "la cual se puede simplificar como\n",
    "$$\n",
    "K(x, x') = \\exp(-\\gamma \\|x-x'\\|^2)\n",
    "$$\n",
    "\n",
    "donde $\\gamma$ se especifica mediante el parámetro `gamma`, que debe ser mayor que $0$.\n",
    "\n",
    "En la literatura este método tambien se encuentra como kernel usando una función de base radial (**RBF** por sus siglas en ingles)."
   ]
  },
  {
   "cell_type": "markdown",
   "metadata": {
    "id": "W5prOtIfUWEh"
   },
   "source": [
    "Al entrenar una SVM con el kernel de la función de base radial (RBF), hay que tener en cuenta dos parámetros: $C$ y $\\gamma$.\n",
    "* El parámetro $C$, común a todos los kernels de SVM, es el **parametro de regularización**, que compensa la clasificación errónea de las muestras de entrenamiento en la complejidad de la superficie de decisión.\n",
    "    - Un $C$ bajo hace que la superficie de decisión sea suave, mientras que un $C$ alto tiene como objetivo clasificar correctamente todos los ejemplos de entrenamiento.\n",
    "\n",
    "<img src=\"https://github.com/marcoteran/deeplearning/raw/master/notebooks/figures/lowc.png\" width=\"40%\">\n",
    "<img src=\"https://github.com/marcoteran/deeplearning/raw/master/notebooks/figures/highc.png\" width=\"40%\">\n",
    "\n",
    "* $\\gamma$ define cuánta influencia tiene una sola muestra de entrenamiento.\n",
    "    - Cuanto mayor sea $\\gamma$, más cerca deben estar las demás muestras para verse afectadas.\n",
    "\n",
    "<img src=\"https://github.com/marcoteran/deeplearning/raw/master/notebooks/figures/highgamma.png\" width=\"40%\">\n",
    "<img src=\"https://github.com/marcoteran/deeplearning/raw/master/notebooks/figures/lowgamma.png\" width=\"40%\">\n",
    "\n",
    "La elección adecuada de $C$ y $\\gamma$ es fundamental para el rendimiento de la SVM. Se aconseja utilizar `GridSearchCV` con $C$ y $\\gamma$ espaciados exponencialmente para elegir buenos valores."
   ]
  },
  {
   "cell_type": "markdown",
   "metadata": {
    "id": "_EuGEyUrUWEi"
   },
   "source": [
    "En el siguiente ejemplo probamos con un valor de $\\gamma$ pequeño $(0.007)$:"
   ]
  },
  {
   "cell_type": "code",
   "execution_count": null,
   "metadata": {
    "id": "olfcRPhJUWEj"
   },
   "outputs": [],
   "source": [
    "# Cargamos el clasificador\n",
    "rbf_svm = SVC(kernel='rbf', gamma=0.007)"
   ]
  },
  {
   "cell_type": "code",
   "execution_count": null,
   "metadata": {
    "colab": {
     "base_uri": "https://localhost:8080/"
    },
    "id": "cI7U6NGrIqhZ",
    "outputId": "ed9a9e5b-fcd0-4fe5-bf94-a26cfae9efec"
   },
   "outputs": [],
   "source": [
    "rbf_svm"
   ]
  },
  {
   "cell_type": "code",
   "execution_count": null,
   "metadata": {
    "colab": {
     "base_uri": "https://localhost:8080/",
     "height": 390
    },
    "id": "4YYBEM8TJC4G",
    "outputId": "44e74f20-01f9-4ece-d12a-e4b8dbb50282"
   },
   "outputs": [],
   "source": [
    "pl.figure(figsize = (10,6))\n",
    "plot_data(X_moons_train, y_moons_train)"
   ]
  },
  {
   "cell_type": "code",
   "execution_count": null,
   "metadata": {
    "colab": {
     "base_uri": "https://localhost:8080/"
    },
    "id": "qUEAT6liUWEj",
    "outputId": "5656f12b-1246-4000-a551-56bec693001b"
   },
   "outputs": [],
   "source": [
    "# Entrenamos el clasificador\n",
    "rbf_svm.fit(X_moons_train, y_moons_train)"
   ]
  },
  {
   "cell_type": "markdown",
   "metadata": {
    "id": "o-LtVIiuUWEk"
   },
   "source": [
    "Ahora visualizamos los datos de ambos y la superficie de decisión:"
   ]
  },
  {
   "cell_type": "code",
   "execution_count": null,
   "metadata": {
    "colab": {
     "base_uri": "https://localhost:8080/",
     "height": 404
    },
    "id": "bWw4nlRGUWEk",
    "outputId": "025b3afb-49fc-459c-cf52-3e03b44a1d68"
   },
   "outputs": [],
   "source": [
    "pl.figure(figsize=(10,6))\n",
    "plot_decision_region(X_moons_test, gen_pred_fun(rbf_svm))\n",
    "plot_data(X_moons_test, y_moons_test)"
   ]
  },
  {
   "cell_type": "markdown",
   "metadata": {
    "id": "PmUNZcYvUWEl"
   },
   "source": [
    "Reportamos el error de entrenamiento y prueba:"
   ]
  },
  {
   "cell_type": "code",
   "execution_count": null,
   "metadata": {
    "colab": {
     "base_uri": "https://localhost:8080/"
    },
    "id": "DcGVz8LbUWEl",
    "outputId": "04330b29-7892-40e4-e468-6284b0af38a5"
   },
   "outputs": [],
   "source": [
    "# Error en entrenamiento\n",
    "# Error en prueba\n",
    "print(\"Error en entrenamiento: {}\".format(1-rbf_svm.score(X_moons_train, y_moons_train)))\n",
    "print(\"Error en prueba: {}\".format(1-rbf_svm.score(X_moons_test, y_moons_test)))"
   ]
  },
  {
   "cell_type": "markdown",
   "metadata": {
    "id": "sogKE0KmUWEl"
   },
   "source": [
    "Usamos un $\\gamma$ más grande $(10000)$"
   ]
  },
  {
   "cell_type": "code",
   "execution_count": null,
   "metadata": {
    "colab": {
     "base_uri": "https://localhost:8080/"
    },
    "id": "mj8caUSzUWEl",
    "outputId": "b13b9b6d-b33e-4579-b483-1281bfcb2a6f"
   },
   "outputs": [],
   "source": [
    "rbf_svm = SVC(kernel='rbf', gamma=10000)\n",
    "rbf_svm.fit(X_moons_train, y_moons_train)"
   ]
  },
  {
   "cell_type": "code",
   "execution_count": null,
   "metadata": {
    "colab": {
     "base_uri": "https://localhost:8080/",
     "height": 404
    },
    "id": "7m0J-5DDKnzI",
    "outputId": "980b71ad-24ab-4797-dcdf-51b1628142d7"
   },
   "outputs": [],
   "source": [
    "pl.figure(figsize=(10,6))\n",
    "plot_decision_region(X_moons_test, gen_pred_fun(rbf_svm))\n",
    "plot_data(X_moons_test, y_moons_test)"
   ]
  },
  {
   "cell_type": "code",
   "execution_count": null,
   "metadata": {
    "colab": {
     "base_uri": "https://localhost:8080/",
     "height": 730
    },
    "id": "sEHlIey-KzSM",
    "outputId": "a04daa95-a929-4f4d-9b43-5fc9f3c64ee2"
   },
   "outputs": [],
   "source": [
    "pl.figure(figsize=(20,12))\n",
    "plot_decision_region(X_moons_train, gen_pred_fun(rbf_svm))\n",
    "plot_data(X_moons_train, y_moons_train)"
   ]
  },
  {
   "cell_type": "markdown",
   "metadata": {
    "id": "YK6k_XRlUWEm"
   },
   "source": [
    "Ahora reportamos el error de entrenamiento y prueba:"
   ]
  },
  {
   "cell_type": "code",
   "execution_count": null,
   "metadata": {
    "colab": {
     "base_uri": "https://localhost:8080/"
    },
    "id": "vO3bO2LUUWEm",
    "outputId": "9bc6180b-f645-4238-fc5c-d02074f6cee0"
   },
   "outputs": [],
   "source": [
    "# Error en entrenamiento\n",
    "# Error en prueba\n",
    "print(\"Error en entrenamiento: {}\".format(1-rbf_svm.score(X_moons_train, y_moons_train)))\n",
    "print(\"Error en prueba: {}\".format(1-rbf_svm.score(X_moons_test, y_moons_test)))"
   ]
  },
  {
   "cell_type": "markdown",
   "metadata": {
    "id": "8HsNY79GUWEm"
   },
   "source": [
    "Ahora escogemos un valor de $\\gamma$ intermedio $(0.7)$:"
   ]
  },
  {
   "cell_type": "code",
   "execution_count": null,
   "metadata": {
    "colab": {
     "base_uri": "https://localhost:8080/",
     "height": 404
    },
    "id": "DPfcTb7pUWEm",
    "outputId": "170b6ad4-2576-4410-b667-4b35278f1013"
   },
   "outputs": [],
   "source": [
    "rbf_svm = SVC(kernel='rbf', gamma=0.7)\n",
    "rbf_svm.fit(X_moons_train, y_moons_train)\n",
    "\n",
    "pl.figure(figsize=(10,6))\n",
    "plot_decision_region(X_moons_test, gen_pred_fun(rbf_svm))\n",
    "plot_data(X_moons_test, y_moons_test)"
   ]
  },
  {
   "cell_type": "code",
   "execution_count": null,
   "metadata": {
    "colab": {
     "base_uri": "https://localhost:8080/"
    },
    "id": "yB5XL-IAUWEm",
    "outputId": "ed4ec3fa-84d5-4e3f-a136-29dd9187c945"
   },
   "outputs": [],
   "source": [
    "# Error en entrenamiento\n",
    "# Error en prueba\n",
    "print(\"Error en entrenamiento: {}\".format(1-rbf_svm.score(X_moons_train, y_moons_train)))\n",
    "print(\"Error en prueba: {}\".format(1-rbf_svm.score(X_moons_test, y_moons_test)))"
   ]
  },
  {
   "cell_type": "markdown",
   "metadata": {
    "id": "sxYOmiR2UWEm"
   },
   "source": [
    "Probamos sobre el conjunto de datos IRIS $(\\gamma=0.7)$"
   ]
  },
  {
   "cell_type": "code",
   "execution_count": null,
   "metadata": {
    "colab": {
     "base_uri": "https://localhost:8080/",
     "height": 404
    },
    "id": "L8g4Yte6UWEm",
    "outputId": "f33f7de3-ae5b-4ff7-b52a-6f45f21e21c4"
   },
   "outputs": [],
   "source": [
    "rbf_svm = SVC(kernel='rbf', gamma=0.7)\n",
    "rbf_svm.fit(X_train, y_train)\n",
    "\n",
    "pl.figure(figsize=(10,6))\n",
    "plot_decision_region(X_test, gen_pred_fun(rbf_svm))\n",
    "plot_data(X_test, y_test)"
   ]
  },
  {
   "cell_type": "markdown",
   "metadata": {
    "id": "J4cj3cVRUWEn"
   },
   "source": [
    "Finalmente reportamos el error en entrenamiento y prueba:"
   ]
  },
  {
   "cell_type": "code",
   "execution_count": null,
   "metadata": {
    "colab": {
     "base_uri": "https://localhost:8080/"
    },
    "id": "sMPA-xv6UWEn",
    "outputId": "b2f8b4d2-e27d-4022-945d-c636b9f3bf1e"
   },
   "outputs": [],
   "source": [
    "# Error en entrenamiento\n",
    "# Error en prueba\n",
    "print('Error en entrenamiento para iris: {}'.format(1-rbf_svm.score(X_train, y_train)))\n",
    "print('Error en prueba para iris: {}'.format(1-rbf_svm.score(X_test, y_test)))"
   ]
  },
  {
   "cell_type": "markdown",
   "metadata": {
    "id": "7cz36TlkUWEn"
   },
   "source": [
    "# Estimando de una forma más robusta los hiperparámetros del modelo\n",
    "\n",
    "Hasta el momento nos hemos concentrado en evaluar nuestros modelos en una partición de prueba. Sin embargo, es común introducir sobreajuste a través de la modificación manual de los hiperparámetros de un modelo conforme vamos reportando el error de generalización sobre el conjunto de prueba.\n",
    "\n",
    "<img src=\"https://github.com/marcoteran/deeplearning/raw/master/notebooks/figures/train_val.svg\" width=\"70%\">\n",
    "\n",
    "En la anterior imagen, introducimos una nueva partición, conocida como partición de \"**validación**\". Esta partición es resultado de tomar la partición de entrenamiento y volver a dividirla (en entrenamiento y validación) de tal forma que cualquier configuración de parámetros que se use para entrenar un modelo, pueda ser reportada en **validación**. Una vez estemos seguros que tenemos el modelo con el mejor desempeño en **validación**, volvemos a unir ambas particiones, entrenamos un modelo sobre la partición original de entrenamiento y reportamos **una sola vez** en el conjunto de prueba."
   ]
  },
  {
   "cell_type": "markdown",
   "metadata": {
    "id": "e0G37PlEUWEn"
   },
   "source": [
    "# Validación cruzada de  k pliegues"
   ]
  },
  {
   "cell_type": "markdown",
   "metadata": {
    "id": "UonzrP_WUWEn"
   },
   "source": [
    "A pesar de que se introdujo una nueva partición para validar los parámetros de un modelo, se sigue usando una partición reducida para entrenar el conjunto de datos. La validación cruzada nos permite usar una mayor parte de los datos para construír el modelo y generar un estimador más robusto y con mayor capacidad de generalización. En validación cruzada, los datos son particionados varias veces en entrenamiento y validación de forma repetida. Finalmente el desempeño del clasificador es agregado sobre las diferentes particiones de validación para obtener un estimador más robusto.\n",
    "\n",
    "La validación cruzada se hace comúnmente de la siguiente manera:\n",
    "* Se divide el conjunto de entrenamiento en k-pliegues o particiones (usualmente 3, 5 o 10).\n",
    "* Estas particiones deben ser del mismo tamaño\n",
    "* En cada iteración uno de los pliegues es usado como la partición de validación, mientras el resto es usado como la partición de entrenamiento.\n",
    "* Se reporta y guarda el desempeño sobre esa partición de validación\n",
    "\n",
    "<img src=\"https://github.com/marcoteran/deeplearning/raw/master/notebooks/figures/cv2.svg\" width=\"70%\">"
   ]
  },
  {
   "cell_type": "markdown",
   "metadata": {
    "id": "Ayrw2dYgUWEn"
   },
   "source": [
    "Vamos a usar el conjunto de datos IRIS y construímos cada uno de los pliegues:"
   ]
  },
  {
   "cell_type": "code",
   "execution_count": null,
   "metadata": {
    "id": "1rWg0TXvUWEn"
   },
   "outputs": [],
   "source": [
    "# Cargamos los datos iris\n",
    "X=iris.data\n",
    "y=iris.target"
   ]
  },
  {
   "cell_type": "code",
   "execution_count": null,
   "metadata": {
    "id": "wSkXAYrjUWEo"
   },
   "outputs": [],
   "source": [
    "# Creamos el clasificador LinearSVC\n",
    "linSVC =LinearSVC()"
   ]
  },
  {
   "cell_type": "code",
   "execution_count": null,
   "metadata": {
    "colab": {
     "base_uri": "https://localhost:8080/"
    },
    "id": "33yDZaWSUWEo",
    "outputId": "1676f143-1d3e-477a-b52f-2b7f42f14fa4"
   },
   "outputs": [],
   "source": [
    "# Número de pliegues k=5 (mostrar tamaño de cada pliegue)\n",
    "k=5\n",
    "n_samples=len(X)\n",
    "fold_size=n_samples/k\n",
    "\n",
    "print(\"Número de muestras por pliegue: {}\".format(fold_size))\n"
   ]
  },
  {
   "cell_type": "markdown",
   "metadata": {
    "id": "2UdAq_MkUWEo"
   },
   "source": [
    "Primero hacemos un reordenamiento aleatorio de los datos utilizando la función `shuffle`. De tal forma que las clases estén distribuídas a lo largo de los $k$-pliegues."
   ]
  },
  {
   "cell_type": "code",
   "execution_count": null,
   "metadata": {
    "id": "L21r1YMgUWEo"
   },
   "outputs": [],
   "source": [
    "from sklearn.utils import shuffle\n",
    "X,y=shuffle(X,y,random_state=0)"
   ]
  },
  {
   "cell_type": "markdown",
   "metadata": {
    "id": "IJ34e8mmUWEo"
   },
   "source": [
    "Para cada pliegue vamos a construir una máscara sobre los datos, que indicará mi partición de entrenamiento y de validación."
   ]
  },
  {
   "cell_type": "code",
   "execution_count": null,
   "metadata": {
    "colab": {
     "base_uri": "https://localhost:8080/"
    },
    "id": "IfbKAx6RUWEo",
    "outputId": "6c602a01-aaf7-4bf1-dff6-9d8b6372c06d"
   },
   "outputs": [],
   "source": [
    "# Mostrar la distribución de equiquetas por pliegue\n",
    "scores = []\n",
    "masks = []\n",
    "\n",
    "\n",
    "for fold in range(k):\n",
    "    val_mask = np.zeros(n_samples, dtype=bool)\n",
    "    val_mask[int(fold * fold_size) : int((fold + 1) * fold_size)] = True\n",
    "    masks.append(val_mask)\n",
    "    X_val, y_val = X[val_mask], y[val_mask]\n",
    "    print('Distribución de etiquetas en el pliegue {}: {}'\n",
    "          .format(fold, np.bincount(y_val)))\n",
    "    \n",
    "    X_train, y_train = X[~val_mask], y[~val_mask]\n",
    "    linSVC.fit(X_train, y_train)\n",
    "    scores.append(linSVC.score(X_val, y_val))"
   ]
  },
  {
   "cell_type": "markdown",
   "metadata": {
    "id": "0TXK7gECUWEo"
   },
   "source": [
    "A continuación tenemos el accuracy para cada pliegue de **validación** y su respectivo promedio:"
   ]
  },
  {
   "cell_type": "code",
   "execution_count": null,
   "metadata": {
    "colab": {
     "base_uri": "https://localhost:8080/"
    },
    "id": "KOJdZNLCUWEp",
    "outputId": "f7398971-cee2-4ee0-ad8f-93a1580514a6"
   },
   "outputs": [],
   "source": [
    "# Mostramos la accuracy por cada pliegue\n",
    "# Mostramos promedio sobre los 5 pliegues\n",
    "print(\"Accuracy por cada pliegue: {}\".format(scores))\n",
    "print(\"Promedio sobre los 5 pliegues: {}\".format(np.mean(scores)))"
   ]
  },
  {
   "cell_type": "markdown",
   "metadata": {
    "id": "-lzvTrdEUWEp"
   },
   "source": [
    "Podemos tambien observar la porción de los datos usados para cada pliegue. En negro encontramos aquel porcentaje usado para validación."
   ]
  },
  {
   "cell_type": "code",
   "execution_count": null,
   "metadata": {
    "colab": {
     "base_uri": "https://localhost:8080/",
     "height": 98
    },
    "id": "hal_Hi3-UWEp",
    "outputId": "ba6feb08-077b-40d9-be78-6a1d53666525"
   },
   "outputs": [],
   "source": [
    "# Dibujas las mascaras\n",
    "pl.matshow(masks,cmap='gray_r')"
   ]
  },
  {
   "cell_type": "markdown",
   "metadata": {
    "id": "0NaKtOc3UWEp"
   },
   "source": [
    "## Validación cruzada usando Scikit-Learn\n",
    "\n",
    "Scikit-Learn provee una implementación muy eficiente para realizar **validación cruzada** usando `sklearn.model_selection` [(ver más)](https://scikit-learn.org/stable/modules/generated/sklearn.model_selection.cross_val_score.html). `sklearn.model_selection.cross_val_score` recibe un estimador y un conjunto de datos, luego \n",
    "hace el particionamiento y entrena un modelo sobre cada partición de validación."
   ]
  },
  {
   "cell_type": "code",
   "execution_count": null,
   "metadata": {
    "id": "EzIwWB6tUWEp"
   },
   "outputs": [],
   "source": [
    "from sklearn.model_selection import cross_val_score, KFold, StratifiedKFold"
   ]
  },
  {
   "cell_type": "markdown",
   "metadata": {
    "id": "jUiJr15KUWEp"
   },
   "source": [
    "El parámetro `cv` en `cross_val_score` controla el número de pliegues a usar."
   ]
  },
  {
   "cell_type": "code",
   "execution_count": null,
   "metadata": {
    "id": "qg7S1A3hUWEp"
   },
   "outputs": [],
   "source": [
    "# Carga de datos iris y definición del clasificador\n",
    "X=iris.data\n",
    "y=iris.target\n",
    "\n",
    "classifier=LinearSVC(max_iter=10000)"
   ]
  },
  {
   "cell_type": "code",
   "execution_count": null,
   "metadata": {
    "colab": {
     "base_uri": "https://localhost:8080/"
    },
    "id": "jSwUWkdRR1xJ",
    "outputId": "8dc969e7-a968-495b-9406-c78d40f09ff9"
   },
   "outputs": [],
   "source": [
    "classifier"
   ]
  },
  {
   "cell_type": "code",
   "execution_count": null,
   "metadata": {
    "id": "AJOttqsuUWEq"
   },
   "outputs": [],
   "source": [
    "# Validación cruzada para k=5\n",
    "scores = cross_val_score(classifier, X, y, cv=5)"
   ]
  },
  {
   "cell_type": "code",
   "execution_count": null,
   "metadata": {
    "colab": {
     "base_uri": "https://localhost:8080/"
    },
    "id": "QssNfPaMUWEq",
    "outputId": "9ab5592e-6ac1-44d8-c961-b19cef741828"
   },
   "outputs": [],
   "source": [
    "# Mostramos la accuracy por cada pliegue\n",
    "# Mostramos promedio sobre los 5 pliegues\n",
    "print(\"Accuracy por cada pliegue: {}\".format(scores))\n",
    "print(\"Promedio sobre los 5 pliegues: {}\".format(np.mean(scores)))"
   ]
  },
  {
   "cell_type": "markdown",
   "metadata": {
    "id": "du4mwodcUWEq"
   },
   "source": [
    "`cross_val_score` realiza por defecto una partición estratificada usando `sklearn.model_selection.StratifiedKFold`. Esta estrategia consiste en hacer un particionamiento de tal forma que cada partición tenga la misma distribución de etiquetas $y$. En caso que no se quiera hacer una partición estratificada, se puede usar `sklearn.model_selection.KFold`.\n",
    "\n",
    "`sklearn.model_selection.StratifiedKFold` genera de forma automática la partición estratificada, sin necesidad de hacer una permutación de los datos como lo hicimos anteriormente. A continuación revisamos los índices que genera `StratifiedKFold`:"
   ]
  },
  {
   "cell_type": "code",
   "execution_count": null,
   "metadata": {
    "id": "zaBR9C3CUWEq"
   },
   "outputs": [],
   "source": [
    "# Realizar la estratificación y mostrar:\n",
    "# Tamaño entrenamiento:\n",
    "# Tamaño validación:\n",
    "\n",
    "cv=StratifiedKFold(n_splits=5)"
   ]
  },
  {
   "cell_type": "code",
   "execution_count": null,
   "metadata": {
    "colab": {
     "base_uri": "https://localhost:8080/"
    },
    "id": "WuvnDrOMSw9j",
    "outputId": "1da889db-19e2-4e76-918f-6e8843efce83"
   },
   "outputs": [],
   "source": [
    "for train, val in cv.split(X,y):\n",
    "  print(\"Datos de validación: {}\".format(val))\n",
    "  print(\"Tamaño de entrenamiento: {}\".format(len(train)))\n",
    "  print(\"Tamaño de validación: {}\".format(len(val)))\n"
   ]
  },
  {
   "cell_type": "markdown",
   "metadata": {
    "id": "QergRkpWUWEq"
   },
   "source": [
    "Usando una función definida previamente, vamos a validar la distribución de las etiquetas por clase."
   ]
  },
  {
   "cell_type": "code",
   "execution_count": null,
   "metadata": {
    "colab": {
     "base_uri": "https://localhost:8080/",
     "height": 281
    },
    "id": "BYWAML0mUWEq",
    "outputId": "a966ad6b-5598-4a2f-8c83-ea78764af022"
   },
   "outputs": [],
   "source": [
    "# Utilizar plot_labels con StratifiedKFold\n",
    "cv=StratifiedKFold(n_splits=5)\n",
    "ylabels=[]\n",
    "\n",
    "for train, val in cv.split(X,y):\n",
    "  ylabels.append(y[val])\n",
    "\n",
    "plot_labels(5, 3, ylabels)"
   ]
  },
  {
   "cell_type": "markdown",
   "metadata": {
    "id": "uS7tZN-2UWEq"
   },
   "source": [
    "Por otro lado, usando `KFold` podemos obtener un particionamiento de tantos pliegues como se especifiquen. Sin embargo, se corre el riesgo de no generar particiones balanceadas, por lo tanto lo estimadores no van a tener el desempeño esperado. Por ejemplo en el **Pliegue 0** solo hay datos de la clase $0$."
   ]
  },
  {
   "cell_type": "code",
   "execution_count": null,
   "metadata": {
    "colab": {
     "base_uri": "https://localhost:8080/",
     "height": 281
    },
    "id": "jMj7LX3sUWEr",
    "outputId": "06d5d206-91e3-4f5c-f9ee-c5b07fe33794"
   },
   "outputs": [],
   "source": [
    "# Utilizar plot_labels con KFold\n",
    "cv=KFold(n_splits=5)\n",
    "ylabels=[]\n",
    "\n",
    "for train, val in cv.split(X,y):\n",
    "  ylabels.append(y[val])\n",
    "\n",
    "plot_labels(5, 3, ylabels)"
   ]
  },
  {
   "cell_type": "markdown",
   "metadata": {
    "id": "-4t8nNFJUWEr"
   },
   "source": [
    "# Grid search"
   ]
  },
  {
   "cell_type": "markdown",
   "metadata": {
    "id": "kP_LSLIGUWEr"
   },
   "source": [
    "SVM usando RBF comúnmente requiere el ajuste de dos parámetros:\n",
    "* `gamma`\n",
    "* `C`\n",
    "\n",
    "Ambos parámetros pueden ser explorados usando un retículo (grid) de parámetros y evaluando su desempeño usando validación cruzada de $k$ pliegues. A continuación, creamos una partición entrenamiento y prueba sobre el conjunto de datos IRIS."
   ]
  },
  {
   "cell_type": "code",
   "execution_count": null,
   "metadata": {
    "id": "zihDXu5ZUWEr"
   },
   "outputs": [],
   "source": [
    "from sklearn.model_selection import train_test_split, GridSearchCV"
   ]
  },
  {
   "cell_type": "code",
   "execution_count": null,
   "metadata": {
    "id": "b5ec6AoCUWEr"
   },
   "outputs": [],
   "source": [
    "# especificar estratificación\n",
    "X_train, X_test, y_train, y_test = train_test_split(X, y,\n",
    "                                                    stratify=y,\n",
    "                                                    test_size=0.3,\n",
    "                                                    random_state=0)"
   ]
  },
  {
   "cell_type": "markdown",
   "metadata": {
    "id": "-1Tbe54CUWEr"
   },
   "source": [
    "Definimos los siguientes valores para $C=2i$ y $\\gamma=i^2$, para $i=\\{-5,7\\}$."
   ]
  },
  {
   "cell_type": "code",
   "execution_count": null,
   "metadata": {
    "id": "wG9wVlMkUWEr"
   },
   "outputs": [],
   "source": [
    "grid=[i for i in range(-5,7,1)]\n",
    "param_grid={'C':[2**i for i in grid], 'gamma':[2**(0.5*i) for i in grid]}"
   ]
  },
  {
   "cell_type": "markdown",
   "metadata": {
    "id": "LaUvBrEAUWEr"
   },
   "source": [
    "Valores de $C$:"
   ]
  },
  {
   "cell_type": "code",
   "execution_count": null,
   "metadata": {
    "colab": {
     "base_uri": "https://localhost:8080/"
    },
    "id": "tiyMKVIRUWEs",
    "outputId": "6f3e9167-102f-4175-8fd0-864142451460"
   },
   "outputs": [],
   "source": [
    "param_grid['C']"
   ]
  },
  {
   "cell_type": "markdown",
   "metadata": {
    "id": "H4NCopGtUWEs"
   },
   "source": [
    "Valores de $\\textit{gamma}$:"
   ]
  },
  {
   "cell_type": "code",
   "execution_count": null,
   "metadata": {
    "colab": {
     "base_uri": "https://localhost:8080/"
    },
    "id": "5ocS9DXfUWEs",
    "outputId": "8e5b0074-eb88-4a7c-cd17-21a12423a22b"
   },
   "outputs": [],
   "source": [
    "param_grid['gamma']"
   ]
  },
  {
   "cell_type": "markdown",
   "metadata": {
    "id": "N2egBo_sUWEs"
   },
   "source": [
    "`GridSearchCV` recibe dos elementos fundamentales:\n",
    "* `estimator`: Modelo de Scikit-Learn. Puede ser `SVC(kernel='rbf')`.\n",
    "* `param_grid`: Diccionario que contiene los parámetros que se van a explorar usando validación cruzada."
   ]
  },
  {
   "cell_type": "code",
   "execution_count": null,
   "metadata": {
    "id": "HteruTejUWEs"
   },
   "outputs": [],
   "source": [
    "clf=GridSearchCV(SVC(kernel='rbf'),param_grid=param_grid,n_jobs=-1,verbose=2)"
   ]
  },
  {
   "cell_type": "code",
   "execution_count": null,
   "metadata": {
    "colab": {
     "base_uri": "https://localhost:8080/"
    },
    "id": "kNjlKI3Pcowd",
    "outputId": "f565b2a0-6ca1-4bdf-c993-3238d5019e6e",
    "scrolled": true
   },
   "outputs": [],
   "source": [
    "clf"
   ]
  },
  {
   "cell_type": "code",
   "execution_count": null,
   "metadata": {
    "colab": {
     "base_uri": "https://localhost:8080/"
    },
    "id": "YgBwTULCcwTA",
    "outputId": "7ffe27b2-51d5-4aa4-a2ee-6cdac6835463"
   },
   "outputs": [],
   "source": [
    "clf.fit(X_train, y_train)"
   ]
  },
  {
   "cell_type": "code",
   "execution_count": null,
   "metadata": {
    "id": "_99TLycdc-Xy"
   },
   "outputs": [],
   "source": [
    "clf.cv_results_"
   ]
  },
  {
   "cell_type": "markdown",
   "metadata": {
    "id": "vvCvWKzgUWEs"
   },
   "source": [
    "Los valores promedio de accuracy para cada combinación de hiperparámetros se pueden extraer usando `GridSearchCV.cv_results_`. Convertimos ese diccionario a un DataFrame de pandas."
   ]
  },
  {
   "cell_type": "code",
   "execution_count": null,
   "metadata": {
    "id": "XiSY706mUWEs"
   },
   "outputs": [],
   "source": [
    "import pandas as pd\n",
    "\n",
    "cv_results=pd.DataFrame(clf.cv_results_)"
   ]
  },
  {
   "cell_type": "code",
   "execution_count": null,
   "metadata": {
    "colab": {
     "base_uri": "https://localhost:8080/",
     "height": 605
    },
    "id": "l4T7bYzLd5Ng",
    "outputId": "6ce5cb33-29d8-472b-a51b-b7839a246d6b"
   },
   "outputs": [],
   "source": [
    "cv_results"
   ]
  },
  {
   "cell_type": "markdown",
   "metadata": {
    "id": "MWc1FdYmUWEt"
   },
   "source": [
    "A continuación, observamos que el número de filas de ese DataFrame corresponde al número de configuraciones de hiperparámetros que se están explorando:"
   ]
  },
  {
   "cell_type": "code",
   "execution_count": null,
   "metadata": {
    "colab": {
     "base_uri": "https://localhost:8080/"
    },
    "id": "9phHkUVqUWEt",
    "outputId": "1e455913-fcb7-48c6-ee7f-238e084c0d25"
   },
   "outputs": [],
   "source": [
    "print(len(cv_results))\n",
    "print(len(param_grid['C']))\n",
    "print(len(param_grid['gamma']))\n",
    "total=len(param_grid['C'])*len(param_grid['gamma'])\n",
    "print(total)"
   ]
  },
  {
   "cell_type": "markdown",
   "metadata": {
    "id": "7dYCQS3eUWEt"
   },
   "source": [
    "Usando la columna `mean_test_score`, extraemos los accuracy promedio de la siguiente forma:"
   ]
  },
  {
   "cell_type": "code",
   "execution_count": null,
   "metadata": {
    "colab": {
     "base_uri": "https://localhost:8080/"
    },
    "id": "X3SQV6D7UWEt",
    "outputId": "a2f4d0e6-c9fe-4052-dc81-13bfada19715"
   },
   "outputs": [],
   "source": [
    "scores=clf.cv_results_['mean_test_score'].reshape(len(param_grid['C']),len(param_grid['gamma']))\n",
    "scores"
   ]
  },
  {
   "cell_type": "markdown",
   "metadata": {
    "id": "usGToOlHUWEt"
   },
   "source": [
    "A continuación, presentamos una forma de visualizar esta exploración sobre la malla de hiperparámetros"
   ]
  },
  {
   "cell_type": "code",
   "execution_count": null,
   "metadata": {
    "colab": {
     "base_uri": "https://localhost:8080/",
     "height": 499
    },
    "id": "GVqviNulUWEw",
    "outputId": "9286d85e-c0bd-4170-d7b6-f714e816d765"
   },
   "outputs": [],
   "source": [
    "plt.figure(figsize=(10, 6))\n",
    "plt.subplots_adjust(left=.2, right=0.95, bottom=0.15, top=0.95)\n",
    "plt.imshow(scores, interpolation='nearest', cmap=plt.cm.hot,\n",
    "           norm=MidpointNormalize(vmin=0.2, midpoint=0.92, vmax=1.))\n",
    "plt.xlabel('gamma')\n",
    "plt.ylabel('C')\n",
    "plt.colorbar()\n",
    "plt.xticks(np.arange(len(param_grid['gamma'])), param_grid['gamma'], rotation=45)\n",
    "plt.yticks(np.arange(len(param_grid['C'])), param_grid['C'])\n",
    "plt.title('Accuracy en validación')\n",
    "plt.show()"
   ]
  },
  {
   "cell_type": "markdown",
   "metadata": {
    "id": "vMPc4_CqUWEx"
   },
   "source": [
    "Encontramos que existen tres modelos con el mejor desempeño usando validación cruzada:\n",
    "* $C=2$ y $\\gamma=0.5$\n",
    "* $C=8$ y $\\gamma=0.125$\n",
    "* $C=4$ y $\\gamma=0.5$"
   ]
  },
  {
   "cell_type": "markdown",
   "metadata": {
    "id": "DAbjDByxUWEx"
   },
   "source": [
    "Para validar esta información, `GridSearchCV` nos ofrece una serie de métodos que nos permite consultar:\n",
    "* La lista de resultados por elemento en la malla de parámetros (`cv_results_`)\n",
    "* La configuración con el mejor desempeño (`best_params_`)\n",
    "* El accuracy promediado sobre todos los pliegues de la mejor configuración (`best_score_`)\n",
    "\n",
    "Para encontrar las mejores configuraciones, ordenamos la tabla de resultados de la siguiente manera:"
   ]
  },
  {
   "cell_type": "code",
   "execution_count": null,
   "metadata": {
    "id": "cq79qmAeUWEx"
   },
   "outputs": [],
   "source": [
    "cv_bestresults=cv_results[['param_C','param_gamma','mean_test_score']]"
   ]
  },
  {
   "cell_type": "code",
   "execution_count": null,
   "metadata": {
    "colab": {
     "base_uri": "https://localhost:8080/",
     "height": 203
    },
    "id": "7jahaAH7h9sX",
    "outputId": "a46bfd2e-dcb4-4848-9f4b-ed019866a598"
   },
   "outputs": [],
   "source": [
    "cv_bestresults.head()"
   ]
  },
  {
   "cell_type": "code",
   "execution_count": null,
   "metadata": {
    "colab": {
     "base_uri": "https://localhost:8080/",
     "height": 417
    },
    "id": "_QbPx6PPiEMY",
    "outputId": "ef565dc9-2b9c-402a-e62f-58e478697624"
   },
   "outputs": [],
   "source": [
    "cv_bestresults.sort_values(by='mean_test_score', ascending=False)"
   ]
  },
  {
   "cell_type": "markdown",
   "metadata": {
    "id": "jZ6MnX-0UWEy"
   },
   "source": [
    "Esta información también se puede consultar usando `.best_params_` y `.best_score_`."
   ]
  },
  {
   "cell_type": "code",
   "execution_count": null,
   "metadata": {
    "colab": {
     "base_uri": "https://localhost:8080/"
    },
    "id": "6eqtPpx_UWEy",
    "outputId": "905fedb7-96a0-4ac5-9a59-ce21e77c23a5"
   },
   "outputs": [],
   "source": [
    "clf.best_score_"
   ]
  },
  {
   "cell_type": "code",
   "execution_count": null,
   "metadata": {
    "colab": {
     "base_uri": "https://localhost:8080/"
    },
    "id": "MF6C2XU8UWEy",
    "outputId": "11cca9d7-125f-442f-fbe9-28b312234fc2"
   },
   "outputs": [],
   "source": [
    "clf.best_params_"
   ]
  },
  {
   "cell_type": "markdown",
   "metadata": {
    "id": "-lFuDbI2UWEy"
   },
   "source": [
    "Una vez se haya entrenado el modelo usando validación cruzada, `GridSearchCV` escoge automáticamente la mejor configuración y vuelve a entrenar un modelo sobre todo el conjunto de datos de entrenamiento. Por lo tanto se pueden hacer llamados a funciones como `predict()` y `score()`.\n",
    "\n",
    "Para reportar sobre el conjunto de prueba basta con:"
   ]
  },
  {
   "cell_type": "code",
   "execution_count": null,
   "metadata": {
    "colab": {
     "base_uri": "https://localhost:8080/"
    },
    "id": "PWA2cfDFjNbk",
    "outputId": "5316d58d-10bf-4548-c8bc-b9cd2e363d92"
   },
   "outputs": [],
   "source": [
    "clf.score(X_test,y_test)"
   ]
  },
  {
   "cell_type": "markdown",
   "metadata": {},
   "source": [
    "___\n",
    "¡Todo bien! ¡Es todo por hoy! 😀"
   ]
  }
 ],
 "metadata": {
  "colab": {
   "name": "03_artificialintelligence_svm_modelselection.ipynb",
   "provenance": []
  },
  "kernelspec": {
   "display_name": "Python [conda env:base] *",
   "language": "python",
   "name": "conda-base-py"
  },
  "language_info": {
   "codemirror_mode": {
    "name": "ipython",
    "version": 3
   },
   "file_extension": ".py",
   "mimetype": "text/x-python",
   "name": "python",
   "nbconvert_exporter": "python",
   "pygments_lexer": "ipython3",
   "version": "3.12.7"
  }
 },
 "nbformat": 4,
 "nbformat_minor": 4
}
